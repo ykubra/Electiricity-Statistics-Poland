{
 "cells": [
  {
   "attachments": {},
   "cell_type": "markdown",
   "metadata": {},
   "source": [
    "# MONTHLY ELECTRIC STATISTICS IN POLAND 2010 TO 2022 (IEA)"
   ]
  },
  {
   "attachments": {},
   "cell_type": "markdown",
   "metadata": {},
   "source": [
    "## INTRODUCTION:\n",
    "\n",
    "Electricity is a vital resource for the functioning of any modern society, and its availability and reliability are critical for economic growth and development. Poland, being one of the largest economies in Europe, heavily relies on electricity to power its industries, businesses, and households. Understanding the trends and patterns in electricity consumption is, therefore, essential for policymakers and stakeholders to make informed decisions about energy policies, investments, and regulations.\n",
    "\n",
    "This project aims to analyze the monthly electric statistics in Poland from 2010 to 2022, with a focus on identifying the trends and patterns in electricity consumption. The analysis will be based on publicly available data from The International Energy Agency (IEA)* and will cover various aspects, including total electricity production and renewable sources. By doing so, this project seeks to provide valuable insights into the factors that influence electricity consumption in Poland and their potential impacts on the country's energy security, environment, and economy.\n",
    "\n",
    "The methodology for this project will involve data cleaning, preprocessing, and analysis using various statistical techniques and tools, including time-series analysis, regression models, and visualization tools. The project's expected outcomes include identifying the main drivers of electricity consumption in Poland, forecasting future trends, and assessing the potential impacts of various policy scenarios on electricity consumption. These outcomes could provide useful information for policymakers, energy companies, and other stakeholders involved in the energy sector in Poland.\n",
    "\n",
    "\n",
    "\n",
    "\n",
    "\n",
    "** The International Energy Agency (IEA) is a Paris-based autonomous intergovernmental organisation, established in 1974, that provides policy recommendations, analysis and data on the entire global energy sector. The 31 member countries and 11 association countries of the IEA represent 75% of global energy demand.[1]\n",
    "\n",
    "\n",
    "\n"
   ]
  },
  {
   "attachments": {},
   "cell_type": "markdown",
   "metadata": {},
   "source": [
    "1. Identifying seasonality in electricity consumption: Use time-series analysis to identify any seasonal patterns in electricity consumption in Poland, and develop strategies to manage peak demand during high-consumption months.\n",
    "\n",
    "2. Analyzing the impact of renewable energy sources: Analyze the impact of renewable energy sources on electricity production in Poland over time, and assess the potential for further development of renewable energy to reduce dependence on fossil fuels.\n",
    "\n",
    "3. Examining the relationship between electricity prices and consumption: Analyze the relationship between electricity prices and consumption in Poland, and identify the factors that influence electricity prices, such as supply and demand, fuel prices, and regulatory policies.\n",
    "\n",
    "4. Identifying the impact of COVID-19 on electricity consumption: Analyze the impact of the COVID-19 pandemic on electricity consumption in Poland, including changes in consumption patterns, shifts in energy demand, and the impact of lockdowns and other restrictions on energy usage.\n",
    "\n",
    "5. Analyzing the impact of weather on electricity consumption: Use regression analysis to identify the impact of weather patterns on electricity consumption in Poland, and develop strategies to manage energy demand during extreme weather conditions, such as heatwaves and cold snaps.\n",
    "\n"
   ]
  },
  {
   "cell_type": "code",
   "execution_count": 16,
   "metadata": {},
   "outputs": [],
   "source": [
    "import pyspark\n",
    "from pyspark.sql import SparkSession\n",
    "from pyspark.sql.functions import col,isnan,when,count"
   ]
  },
  {
   "cell_type": "code",
   "execution_count": 5,
   "metadata": {},
   "outputs": [],
   "source": [
    "spark = SparkSession.builder.appName(\"project\").config(\"spark.sql.caseSensitive\", \"True\").getOrCreate()\n",
    "spark = SparkSession.builder.appName('project').getOrCreate()"
   ]
  },
  {
   "cell_type": "code",
   "execution_count": 10,
   "metadata": {},
   "outputs": [],
   "source": [
    "df_pyspark =spark.read.option('header','true').csv('/Users/user/Documents/Electiricity-Statistics-Poland/Monthly Electricity Statistics  2010 to 2022.csv',sep=';',inferSchema=True)"
   ]
  },
  {
   "cell_type": "code",
   "execution_count": 13,
   "metadata": {},
   "outputs": [
    {
     "name": "stdout",
     "output_type": "stream",
     "text": [
      "+---------+------+--------------------+--------------------+----------+----+\n",
      "|  Country|  Time|             Balance|             Product|     Value|Unit|\n",
      "+---------+------+--------------------+--------------------+----------+----+\n",
      "|Australia|Oct-22|Net Electricity P...|         Electricity|21139.1949| GWh|\n",
      "|Australia|Oct-22|Net Electricity P...|Total Combustible...|13470.9815| GWh|\n",
      "|Australia|Oct-22|Net Electricity P...|Coal, Peat and Ma...| 9500.2903| GWh|\n",
      "+---------+------+--------------------+--------------------+----------+----+\n",
      "only showing top 3 rows\n",
      "\n"
     ]
    }
   ],
   "source": [
    "df_pyspark.show(3)"
   ]
  },
  {
   "cell_type": "code",
   "execution_count": 14,
   "metadata": {},
   "outputs": [
    {
     "name": "stdout",
     "output_type": "stream",
     "text": [
      "root\n",
      " |-- Country: string (nullable = true)\n",
      " |-- Time: string (nullable = true)\n",
      " |-- Balance: string (nullable = true)\n",
      " |-- Product: string (nullable = true)\n",
      " |-- Value: double (nullable = true)\n",
      " |-- Unit: string (nullable = true)\n",
      "\n"
     ]
    }
   ],
   "source": [
    "df_pyspark.printSchema()"
   ]
  },
  {
   "cell_type": "code",
   "execution_count": 15,
   "metadata": {},
   "outputs": [
    {
     "name": "stdout",
     "output_type": "stream",
     "text": [
      "+-------+-------+--------------------+--------------------+----------+----+\n",
      "|Country|   Time|             Balance|             Product|     Value|Unit|\n",
      "+-------+-------+--------------------+--------------------+----------+----+\n",
      "| Poland| Oct-22|Net Electricity P...|         Electricity|13335.4109| GWh|\n",
      "| Poland| Oct-22|Net Electricity P...|Total Combustible...|10812.5988| GWh|\n",
      "| Poland| Oct-22|Net Electricity P...|Coal, Peat and Ma...| 9356.0887| GWh|\n",
      "| Poland| Oct-22|Net Electricity P...|Oil and Petroleum...|       0.0| GWh|\n",
      "| Poland| Oct-22|Net Electricity P...|         Natural Gas|   847.293| GWh|\n",
      "| Poland| Oct-22|Net Electricity P...|Combustible Renew...|  574.3889| GWh|\n",
      "| Poland| Oct-22|Net Electricity P...|Other Combustible...|   34.8283| GWh|\n",
      "| Poland| Oct-22|Net Electricity P...|               Hydro|  220.3632| GWh|\n",
      "| Poland| Oct-22|Net Electricity P...|                Wind| 1676.4072| GWh|\n",
      "| Poland| Oct-22|Net Electricity P...|               Solar|  619.8468| GWh|\n",
      "| Poland| Oct-22|Net Electricity P...|       Not Specified|    6.1948| GWh|\n",
      "| Poland| Oct-22|Net Electricity P...|Total Renewables ...| 3091.0061| GWh|\n",
      "| Poland| Oct-22|       Total Imports|         Electricity|  1366.975| GWh|\n",
      "| Poland| Oct-22|       Total Exports|         Electricity|  1343.815| GWh|\n",
      "| Poland| Oct-22|Used for pumped s...|         Electricity|  133.1451| GWh|\n",
      "| Poland| Oct-22| Distribution Losses|         Electricity|  845.1733| GWh|\n",
      "| Poland| Oct-22|Final Consumption...|         Electricity|12380.2524| GWh|\n",
      "| Poland|Sept-22|Net Electricity P...|         Electricity|12685.5461| GWh|\n",
      "| Poland|Sept-22|Net Electricity P...|Total Combustible...|10608.1699| GWh|\n",
      "| Poland|Sept-22|Net Electricity P...|Coal, Peat and Ma...| 9542.7847| GWh|\n",
      "+-------+-------+--------------------+--------------------+----------+----+\n",
      "only showing top 20 rows\n",
      "\n"
     ]
    }
   ],
   "source": [
    "df_pyspark.filter(df_pyspark.Country == 'Poland').show()"
   ]
  },
  {
   "cell_type": "code",
   "execution_count": 19,
   "metadata": {},
   "outputs": [
    {
     "name": "stdout",
     "output_type": "stream",
     "text": [
      "+-------+----+-------+-------+-----+----+\n",
      "|Country|Time|Balance|Product|Value|Unit|\n",
      "+-------+----+-------+-------+-----+----+\n",
      "|      0|   0|      0|      0|    0|   0|\n",
      "+-------+----+-------+-------+-----+----+\n",
      "\n"
     ]
    }
   ],
   "source": [
    "df_pyspark.select([count(when(isnan(c) | col(c).isNull(), c)).alias(c) for c in df_pyspark.columns]).show()"
   ]
  },
  {
   "attachments": {},
   "cell_type": "markdown",
   "metadata": {},
   "source": [
    "# RESOURCES\n",
    "\n",
    "[1] Wikipedia IEA Introduction: https://en.wikipedia.org/wiki/International_Energy_Agency"
   ]
  },
  {
   "cell_type": "markdown",
   "metadata": {},
   "source": []
  }
 ],
 "metadata": {
  "kernelspec": {
   "display_name": "base",
   "language": "python",
   "name": "python3"
  },
  "language_info": {
   "codemirror_mode": {
    "name": "ipython",
    "version": 3
   },
   "file_extension": ".py",
   "mimetype": "text/x-python",
   "name": "python",
   "nbconvert_exporter": "python",
   "pygments_lexer": "ipython3",
   "version": "3.9.12"
  },
  "orig_nbformat": 4
 },
 "nbformat": 4,
 "nbformat_minor": 2
}
